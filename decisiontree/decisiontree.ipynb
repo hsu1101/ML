{
 "cells": [
  {
   "cell_type": "markdown",
   "metadata": {},
   "source": [
    "### <font color =#000000>Load data </font>"
   ]
  },
  {
   "cell_type": "code",
   "execution_count": 8,
   "metadata": {},
   "outputs": [
    {
     "name": "stdout",
     "output_type": "stream",
     "text": [
      "<class 'pandas.core.frame.DataFrame'>\n",
      "RangeIndex: 32561 entries, 0 to 32560\n",
      "Data columns (total 5 columns):\n",
      "age               32561 non-null int64\n",
      "sex               32561 non-null object\n",
      "hours-per-week    32561 non-null int64\n",
      "education         32561 non-null object\n",
      "income            32561 non-null object\n",
      "dtypes: int64(2), object(3)\n",
      "memory usage: 1.2+ MB\n"
     ]
    }
   ],
   "source": [
    "import numpy as np\n",
    "import pandas as pd\n",
    "import matplotlib.pyplot as plt\n",
    "keys=['age','workclass','fnlwgt','education','education-num',\n",
    "     'marital-status','occupation','relationship','race','sex',\n",
    "     'capital-gain','capital-loss','hours-per-week','native-country',\n",
    "     'income']\n",
    "\n",
    "data =pd.read_csv(\"adult.csv\",header=None,names =keys)\n",
    "data.head()\n",
    "df = data[['age','sex','hours-per-week','education','income']]\n",
    "\n",
    "df.info()\n"
   ]
  },
  {
   "cell_type": "code",
   "execution_count": 9,
   "metadata": {},
   "outputs": [
    {
     "data": {
      "text/html": [
       "<div>\n",
       "<style scoped>\n",
       "    .dataframe tbody tr th:only-of-type {\n",
       "        vertical-align: middle;\n",
       "    }\n",
       "\n",
       "    .dataframe tbody tr th {\n",
       "        vertical-align: top;\n",
       "    }\n",
       "\n",
       "    .dataframe thead th {\n",
       "        text-align: right;\n",
       "    }\n",
       "</style>\n",
       "<table border=\"1\" class=\"dataframe\">\n",
       "  <thead>\n",
       "    <tr style=\"text-align: right;\">\n",
       "      <th></th>\n",
       "      <th>age</th>\n",
       "      <th>hours-per-week</th>\n",
       "    </tr>\n",
       "  </thead>\n",
       "  <tbody>\n",
       "    <tr>\n",
       "      <th>count</th>\n",
       "      <td>32561.000000</td>\n",
       "      <td>32561.000000</td>\n",
       "    </tr>\n",
       "    <tr>\n",
       "      <th>mean</th>\n",
       "      <td>38.581647</td>\n",
       "      <td>40.437456</td>\n",
       "    </tr>\n",
       "    <tr>\n",
       "      <th>std</th>\n",
       "      <td>13.640433</td>\n",
       "      <td>12.347429</td>\n",
       "    </tr>\n",
       "    <tr>\n",
       "      <th>min</th>\n",
       "      <td>17.000000</td>\n",
       "      <td>1.000000</td>\n",
       "    </tr>\n",
       "    <tr>\n",
       "      <th>25%</th>\n",
       "      <td>28.000000</td>\n",
       "      <td>40.000000</td>\n",
       "    </tr>\n",
       "    <tr>\n",
       "      <th>50%</th>\n",
       "      <td>37.000000</td>\n",
       "      <td>40.000000</td>\n",
       "    </tr>\n",
       "    <tr>\n",
       "      <th>75%</th>\n",
       "      <td>48.000000</td>\n",
       "      <td>45.000000</td>\n",
       "    </tr>\n",
       "    <tr>\n",
       "      <th>max</th>\n",
       "      <td>90.000000</td>\n",
       "      <td>99.000000</td>\n",
       "    </tr>\n",
       "  </tbody>\n",
       "</table>\n",
       "</div>"
      ],
      "text/plain": [
       "                age  hours-per-week\n",
       "count  32561.000000    32561.000000\n",
       "mean      38.581647       40.437456\n",
       "std       13.640433       12.347429\n",
       "min       17.000000        1.000000\n",
       "25%       28.000000       40.000000\n",
       "50%       37.000000       40.000000\n",
       "75%       48.000000       45.000000\n",
       "max       90.000000       99.000000"
      ]
     },
     "execution_count": 9,
     "metadata": {},
     "output_type": "execute_result"
    }
   ],
   "source": [
    "df.describe()"
   ]
  },
  {
   "cell_type": "code",
   "execution_count": 10,
   "metadata": {},
   "outputs": [
    {
     "data": {
      "text/html": [
       "<div>\n",
       "<style scoped>\n",
       "    .dataframe tbody tr th:only-of-type {\n",
       "        vertical-align: middle;\n",
       "    }\n",
       "\n",
       "    .dataframe tbody tr th {\n",
       "        vertical-align: top;\n",
       "    }\n",
       "\n",
       "    .dataframe thead th {\n",
       "        text-align: right;\n",
       "    }\n",
       "</style>\n",
       "<table border=\"1\" class=\"dataframe\">\n",
       "  <thead>\n",
       "    <tr style=\"text-align: right;\">\n",
       "      <th></th>\n",
       "      <th>age</th>\n",
       "      <th>sex</th>\n",
       "      <th>hours-per-week</th>\n",
       "      <th>education</th>\n",
       "      <th>income</th>\n",
       "    </tr>\n",
       "  </thead>\n",
       "  <tbody>\n",
       "    <tr>\n",
       "      <th>0</th>\n",
       "      <td>39</td>\n",
       "      <td>Male</td>\n",
       "      <td>40</td>\n",
       "      <td>Bachelors</td>\n",
       "      <td>&lt;=50K</td>\n",
       "    </tr>\n",
       "    <tr>\n",
       "      <th>1</th>\n",
       "      <td>50</td>\n",
       "      <td>Male</td>\n",
       "      <td>13</td>\n",
       "      <td>Bachelors</td>\n",
       "      <td>&lt;=50K</td>\n",
       "    </tr>\n",
       "    <tr>\n",
       "      <th>2</th>\n",
       "      <td>38</td>\n",
       "      <td>Male</td>\n",
       "      <td>40</td>\n",
       "      <td>HS-grad</td>\n",
       "      <td>&lt;=50K</td>\n",
       "    </tr>\n",
       "    <tr>\n",
       "      <th>3</th>\n",
       "      <td>53</td>\n",
       "      <td>Male</td>\n",
       "      <td>40</td>\n",
       "      <td>11th</td>\n",
       "      <td>&lt;=50K</td>\n",
       "    </tr>\n",
       "    <tr>\n",
       "      <th>4</th>\n",
       "      <td>28</td>\n",
       "      <td>Female</td>\n",
       "      <td>40</td>\n",
       "      <td>Bachelors</td>\n",
       "      <td>&lt;=50K</td>\n",
       "    </tr>\n",
       "  </tbody>\n",
       "</table>\n",
       "</div>"
      ],
      "text/plain": [
       "   age      sex  hours-per-week   education  income\n",
       "0   39     Male              40   Bachelors   <=50K\n",
       "1   50     Male              13   Bachelors   <=50K\n",
       "2   38     Male              40     HS-grad   <=50K\n",
       "3   53     Male              40        11th   <=50K\n",
       "4   28   Female              40   Bachelors   <=50K"
      ]
     },
     "execution_count": 10,
     "metadata": {},
     "output_type": "execute_result"
    }
   ],
   "source": [
    "df.head()\n"
   ]
  },
  {
   "cell_type": "code",
   "execution_count": 11,
   "metadata": {},
   "outputs": [],
   "source": [
    "#會有錯因為資料是文字\n",
    "from sklearn.tree import DecisionTreeClassifier\n",
    "\n",
    "X = df.iloc[:,:-1].values\n",
    "y=df.iloc[:,-1].values\n",
    "\n",
    "tree = DecisionTreeClassifier(criterion = 'gini',random_state=1,max_depth=5)\n",
    "#tree.fit(X,y)\n",
    "#print('score:',tree.score(X,y))"
   ]
  },
  {
   "cell_type": "code",
   "execution_count": 12,
   "metadata": {},
   "outputs": [
    {
     "data": {
      "text/plain": [
       "array([[39, ' Male', 40, ' Bachelors'],\n",
       "       [50, ' Male', 13, ' Bachelors'],\n",
       "       [38, ' Male', 40, ' HS-grad'],\n",
       "       ...,\n",
       "       [58, ' Female', 40, ' HS-grad'],\n",
       "       [22, ' Male', 20, ' HS-grad'],\n",
       "       [52, ' Female', 40, ' HS-grad']], dtype=object)"
      ]
     },
     "execution_count": 12,
     "metadata": {},
     "output_type": "execute_result"
    }
   ],
   "source": [
    "X"
   ]
  },
  {
   "cell_type": "code",
   "execution_count": 13,
   "metadata": {},
   "outputs": [
    {
     "data": {
      "text/plain": [
       "array([' <=50K', ' <=50K', ' <=50K', ..., ' <=50K', ' <=50K', ' >50K'],\n",
       "      dtype=object)"
      ]
     },
     "execution_count": 13,
     "metadata": {},
     "output_type": "execute_result"
    }
   ],
   "source": [
    "y"
   ]
  },
  {
   "cell_type": "code",
   "execution_count": 14,
   "metadata": {},
   "outputs": [
    {
     "name": "stdout",
     "output_type": "stream",
     "text": [
      "<class 'pandas.core.frame.DataFrame'>\n",
      "RangeIndex: 32561 entries, 0 to 32560\n",
      "Data columns (total 19 columns):\n",
      "age                        32561 non-null int64\n",
      "hours-per-week             32561 non-null int64\n",
      "sex_ Male                  32561 non-null uint8\n",
      "education_ 11th            32561 non-null uint8\n",
      "education_ 12th            32561 non-null uint8\n",
      "education_ 1st-4th         32561 non-null uint8\n",
      "education_ 5th-6th         32561 non-null uint8\n",
      "education_ 7th-8th         32561 non-null uint8\n",
      "education_ 9th             32561 non-null uint8\n",
      "education_ Assoc-acdm      32561 non-null uint8\n",
      "education_ Assoc-voc       32561 non-null uint8\n",
      "education_ Bachelors       32561 non-null uint8\n",
      "education_ Doctorate       32561 non-null uint8\n",
      "education_ HS-grad         32561 non-null uint8\n",
      "education_ Masters         32561 non-null uint8\n",
      "education_ Preschool       32561 non-null uint8\n",
      "education_ Prof-school     32561 non-null uint8\n",
      "education_ Some-college    32561 non-null uint8\n",
      "income_ >50K               32561 non-null uint8\n",
      "dtypes: int64(2), uint8(17)\n",
      "memory usage: 1.0 MB\n",
      "score: 0.7876907957372317\n"
     ]
    }
   ],
   "source": [
    "from sklearn.tree import DecisionTreeClassifier\n",
    "data_dummies = pd.get_dummies(df,drop_first =True) #False時把sex_Male, income_ <=50K ,education_ 10th 同column裡面的第一個   \n",
    "\n",
    "data_dummies.info()     #dummies 把類別轉成數字(one-hot encoding，5個到19個)\n",
    "X=data_dummies.iloc[:,:-1].values\n",
    "y=data_dummies.iloc[:,-1].values\n",
    "\n",
    "tree = DecisionTreeClassifier(criterion = 'gini',random_state=1,max_depth=5)\n",
    "tree.fit(X,y)\n",
    "print('score:',tree.score(X,y))\n"
   ]
  }
 ],
 "metadata": {
  "kernelspec": {
   "display_name": "Python 3",
   "language": "python",
   "name": "python3"
  },
  "language_info": {
   "codemirror_mode": {
    "name": "ipython",
    "version": 3
   },
   "file_extension": ".py",
   "mimetype": "text/x-python",
   "name": "python",
   "nbconvert_exporter": "python",
   "pygments_lexer": "ipython3",
   "version": "3.7.3"
  }
 },
 "nbformat": 4,
 "nbformat_minor": 2
}
