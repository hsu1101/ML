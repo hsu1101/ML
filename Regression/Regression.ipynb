{
 "cells": [
  {
   "cell_type": "markdown",
   "metadata": {},
   "source": [
    "### <font color =#000000>Load the libraries </font>"
   ]
  },
  {
   "cell_type": "code",
   "execution_count": 16,
   "metadata": {},
   "outputs": [],
   "source": [
    "import pandas as pd\n",
    "import matplotlib.pyplot as plt\n",
    "import numpy as np\n"
   ]
  },
  {
   "cell_type": "markdown",
   "metadata": {},
   "source": [
    "### <font color =#000000>Load the training data </font>"
   ]
  },
  {
   "cell_type": "code",
   "execution_count": 17,
   "metadata": {},
   "outputs": [],
   "source": [
    "data = pd.read_csv('regression1.csv')  #讀檔\n",
    "X = data.iloc[:,0].values              #把dataframe轉成array\n",
    "y = data.iloc[:,-1].values             #把dataframe轉成array"
   ]
  },
  {
   "cell_type": "code",
   "execution_count": 18,
   "metadata": {},
   "outputs": [
    {
     "data": {
      "text/plain": [
       "array([235, 216, 148,  35,  85, 204,  49,  25, 173, 191, 134,  99, 117,\n",
       "       112, 162, 272, 159, 159,  59, 198], dtype=int64)"
      ]
     },
     "execution_count": 18,
     "metadata": {},
     "output_type": "execute_result"
    }
   ],
   "source": [
    "X"
   ]
  },
  {
   "cell_type": "code",
   "execution_count": 19,
   "metadata": {},
   "outputs": [
    {
     "data": {
      "text/plain": [
       "array([591, 539, 413, 310, 308, 532, 325, 332, 498, 498, 392, 334, 385,\n",
       "       387, 425, 659, 400, 427, 295, 522], dtype=int64)"
      ]
     },
     "execution_count": 19,
     "metadata": {},
     "output_type": "execute_result"
    }
   ],
   "source": [
    "y"
   ]
  },
  {
   "cell_type": "markdown",
   "metadata": {},
   "source": [
    "### <font color =#000000>Normalization </font>"
   ]
  },
  {
   "cell_type": "code",
   "execution_count": 20,
   "metadata": {},
   "outputs": [
    {
     "name": "stderr",
     "output_type": "stream",
     "text": [
      "C:\\ProgramData\\Anaconda3\\lib\\site-packages\\sklearn\\utils\\validation.py:595: DataConversionWarning: Data with input dtype int64 was converted to float64 by StandardScaler.\n",
      "  warnings.warn(msg, DataConversionWarning)\n",
      "C:\\ProgramData\\Anaconda3\\lib\\site-packages\\sklearn\\utils\\validation.py:595: DataConversionWarning: Data with input dtype int64 was converted to float64 by StandardScaler.\n",
      "  warnings.warn(msg, DataConversionWarning)\n"
     ]
    }
   ],
   "source": [
    "from sklearn.preprocessing import StandardScaler\n",
    "\n",
    "sc_x = StandardScaler()               #標準化\n",
    "X1 = X.reshape(-1,1)\n",
    "X_std = sc_x.fit_transform(X1)         #sklearn要求二維陣列而不是一維\n"
   ]
  },
  {
   "cell_type": "code",
   "execution_count": 21,
   "metadata": {},
   "outputs": [
    {
     "data": {
      "text/plain": [
       "array([[235],\n",
       "       [216],\n",
       "       [148],\n",
       "       [ 35],\n",
       "       [ 85],\n",
       "       [204],\n",
       "       [ 49],\n",
       "       [ 25],\n",
       "       [173],\n",
       "       [191],\n",
       "       [134],\n",
       "       [ 99],\n",
       "       [117],\n",
       "       [112],\n",
       "       [162],\n",
       "       [272],\n",
       "       [159],\n",
       "       [159],\n",
       "       [ 59],\n",
       "       [198]], dtype=int64)"
      ]
     },
     "execution_count": 21,
     "metadata": {},
     "output_type": "execute_result"
    }
   ],
   "source": [
    "X1"
   ]
  },
  {
   "cell_type": "code",
   "execution_count": 22,
   "metadata": {},
   "outputs": [
    {
     "data": {
      "text/plain": [
       "array([[ 1.39433428],\n",
       "       [ 1.11069026],\n",
       "       [ 0.09554325],\n",
       "       [-1.59139223],\n",
       "       [-0.8449606 ],\n",
       "       [ 0.93154667],\n",
       "       [-1.38239138],\n",
       "       [-1.74067856],\n",
       "       [ 0.46875906],\n",
       "       [ 0.73747445],\n",
       "       [-0.11345761],\n",
       "       [-0.63595975],\n",
       "       [-0.36724436],\n",
       "       [-0.44188752],\n",
       "       [ 0.3045441 ],\n",
       "       [ 1.94669369],\n",
       "       [ 0.25975821],\n",
       "       [ 0.25975821],\n",
       "       [-1.23310505],\n",
       "       [ 0.84197488]])"
      ]
     },
     "execution_count": 22,
     "metadata": {},
     "output_type": "execute_result"
    }
   ],
   "source": [
    "X_std"
   ]
  },
  {
   "cell_type": "code",
   "execution_count": 23,
   "metadata": {},
   "outputs": [
    {
     "data": {
      "text/html": [
       "<div>\n",
       "<style scoped>\n",
       "    .dataframe tbody tr th:only-of-type {\n",
       "        vertical-align: middle;\n",
       "    }\n",
       "\n",
       "    .dataframe tbody tr th {\n",
       "        vertical-align: top;\n",
       "    }\n",
       "\n",
       "    .dataframe thead th {\n",
       "        text-align: right;\n",
       "    }\n",
       "</style>\n",
       "<table border=\"1\" class=\"dataframe\">\n",
       "  <thead>\n",
       "    <tr style=\"text-align: right;\">\n",
       "      <th></th>\n",
       "      <th>X</th>\n",
       "      <th>y</th>\n",
       "    </tr>\n",
       "  </thead>\n",
       "  <tbody>\n",
       "    <tr>\n",
       "      <th>X</th>\n",
       "      <td>1.000000</td>\n",
       "      <td>0.950392</td>\n",
       "    </tr>\n",
       "    <tr>\n",
       "      <th>y</th>\n",
       "      <td>0.950392</td>\n",
       "      <td>1.000000</td>\n",
       "    </tr>\n",
       "  </tbody>\n",
       "</table>\n",
       "</div>"
      ],
      "text/plain": [
       "          X         y\n",
       "X  1.000000  0.950392\n",
       "y  0.950392  1.000000"
      ]
     },
     "execution_count": 23,
     "metadata": {},
     "output_type": "execute_result"
    }
   ],
   "source": [
    "data.corr()       #相關係數，絕對值大越好，表示可以進行推論"
   ]
  },
  {
   "cell_type": "markdown",
   "metadata": {},
   "source": [
    "### <font color =#000000> LinearRegression </font>"
   ]
  },
  {
   "cell_type": "code",
   "execution_count": 24,
   "metadata": {},
   "outputs": [
    {
     "name": "stdout",
     "output_type": "stream",
     "text": [
      "Slope: 95.564\n",
      "Intercept: 428.600\n"
     ]
    }
   ],
   "source": [
    "from sklearn.linear_model import LinearRegression\n",
    "\n",
    "lr = LinearRegression()\n",
    "lr.fit(X_std,y)               #fit表示找最佳的直線\n",
    "y_pred = lr.predict(X_std)    #原始點在線上的點\n",
    "a=lr.coef_[0]\n",
    "b=lr.intercept_\n",
    "print('Slope: %.3f'%lr.coef_[0])\n",
    "print('Intercept: %.3f'%lr.intercept_)  #intercept 為截距"
   ]
  },
  {
   "cell_type": "code",
   "execution_count": 25,
   "metadata": {},
   "outputs": [
    {
     "data": {
      "text/plain": [
       "<matplotlib.collections.PathCollection at 0x1f980772b00>"
      ]
     },
     "execution_count": 25,
     "metadata": {},
     "output_type": "execute_result"
    },
    {
     "data": {
      "image/png": "[encoded data removed]",
      "text/plain": [
       "<Figure size 432x288 with 1 Axes>"
      ]
     },
     "metadata": {
      "needs_background": "light"
     },
     "output_type": "display_data"
    }
   ],
   "source": [
    "plt.scatter(X_std,y)\n",
    "x0 = np.linspace(-3,3,100)\n",
    "y0 = lr.intercept_+(lr.coef_[0]*x0)\n",
    "#plt.title(\"y=95.564X+428.600\")\n",
    "plt.scatter(x0,y0)"
   ]
  },
  {
   "cell_type": "code",
   "execution_count": 26,
   "metadata": {},
   "outputs": [
    {
     "name": "stdout",
     "output_type": "stream",
     "text": [
      "MSE: 978.262\n",
      "R^2: 0.903\n"
     ]
    }
   ],
   "source": [
    "import sklearn.metrics as sm\n",
    "\n",
    "print('MSE: %.3f'%sm.mean_squared_error(y,y_pred))\n",
    "print('R^2: %.3f'%sm.r2_score(y,y_pred))    #R^2介於0到ˋ1之間，偏向1比較好,此公式只能解釋90.3%銷售收入變因"
   ]
  },
  {
   "cell_type": "markdown",
   "metadata": {},
   "source": [
    "### <font color =#000000> PolynomialRegression(degree=2) </font>"
   ]
  },
  {
   "cell_type": "code",
   "execution_count": 27,
   "metadata": {},
   "outputs": [
    {
     "name": "stdout",
     "output_type": "stream",
     "text": [
      "theta1: 0.000\n",
      "theta1: 97.133\n",
      "theta2: 22.623\n",
      "Intercept:405.977\n"
     ]
    }
   ],
   "source": [
    "from sklearn.preprocessing import PolynomialFeatures\n",
    "\n",
    "pr = LinearRegression()\n",
    "quadratic = PolynomialFeatures(degree =2)\n",
    "X_quad = quadratic.fit_transform(X_std)\n",
    "\n",
    "pr.fit(X_quad,y)\n",
    "y_quad_pred = pr.predict(X_quad)\n",
    "\n",
    "print('theta1: %.3f'%pr.coef_[0])\n",
    "print('theta1: %.3f'%pr.coef_[1])\n",
    "print(\"theta2: %.3f\"%pr.coef_[2])\n",
    "print(\"Intercept:%.3f\"%pr.intercept_)"
   ]
  },
  {
   "cell_type": "code",
   "execution_count": 28,
   "metadata": {},
   "outputs": [
    {
     "data": {
      "text/plain": [
       "array([[ 1.        ,  1.39433428,  1.94416809],\n",
       "       [ 1.        ,  1.11069026,  1.23363286],\n",
       "       [ 1.        ,  0.09554325,  0.00912851],\n",
       "       [ 1.        , -1.59139223,  2.53252924],\n",
       "       [ 1.        , -0.8449606 ,  0.71395842],\n",
       "       [ 1.        ,  0.93154667,  0.8677792 ],\n",
       "       [ 1.        , -1.38239138,  1.91100592],\n",
       "       [ 1.        , -1.74067856,  3.02996185],\n",
       "       [ 1.        ,  0.46875906,  0.21973506],\n",
       "       [ 1.        ,  0.73747445,  0.54386856],\n",
       "       [ 1.        , -0.11345761,  0.01287263],\n",
       "       [ 1.        , -0.63595975,  0.4044448 ],\n",
       "       [ 1.        , -0.36724436,  0.13486842],\n",
       "       [ 1.        , -0.44188752,  0.19526458],\n",
       "       [ 1.        ,  0.3045441 ,  0.09274711],\n",
       "       [ 1.        ,  1.94669369,  3.78961632],\n",
       "       [ 1.        ,  0.25975821,  0.06747433],\n",
       "       [ 1.        ,  0.25975821,  0.06747433],\n",
       "       [ 1.        , -1.23310505,  1.52054807],\n",
       "       [ 1.        ,  0.84197488,  0.70892169]])"
      ]
     },
     "execution_count": 28,
     "metadata": {},
     "output_type": "execute_result"
    }
   ],
   "source": [
    "X_quad  #20*3          X_std        X_std^2"
   ]
  },
  {
   "cell_type": "code",
   "execution_count": 29,
   "metadata": {},
   "outputs": [
    {
     "data": {
      "text/plain": [
       "array([[ 1.39433428],\n",
       "       [ 1.11069026],\n",
       "       [ 0.09554325],\n",
       "       [-1.59139223],\n",
       "       [-0.8449606 ],\n",
       "       [ 0.93154667],\n",
       "       [-1.38239138],\n",
       "       [-1.74067856],\n",
       "       [ 0.46875906],\n",
       "       [ 0.73747445],\n",
       "       [-0.11345761],\n",
       "       [-0.63595975],\n",
       "       [-0.36724436],\n",
       "       [-0.44188752],\n",
       "       [ 0.3045441 ],\n",
       "       [ 1.94669369],\n",
       "       [ 0.25975821],\n",
       "       [ 0.25975821],\n",
       "       [-1.23310505],\n",
       "       [ 0.84197488]])"
      ]
     },
     "execution_count": 29,
     "metadata": {},
     "output_type": "execute_result"
    }
   ],
   "source": [
    "X_std   #20*1"
   ]
  },
  {
   "cell_type": "code",
   "execution_count": 30,
   "metadata": {},
   "outputs": [
    {
     "data": {
      "text/plain": [
       "<matplotlib.collections.PathCollection at 0x1f980822128>"
      ]
     },
     "execution_count": 30,
     "metadata": {},
     "output_type": "execute_result"
    },
    {
     "data": {
      "image/png": "[encoded data removed]",
      "text/plain": [
       "<Figure size 432x288 with 1 Axes>"
      ]
     },
     "metadata": {
      "needs_background": "light"
     },
     "output_type": "display_data"
    }
   ],
   "source": [
    "plt.scatter(X_std,y)\n",
    "\n",
    "#二次_橘色\n",
    "x0 = np.linspace(-3,3,100)\n",
    "y0 = pr.intercept_+(pr.coef_[1]*x0)+(pr.coef_[2]*x0**2)\n",
    "plt.scatter(x0,y0)\n",
    "\n",
    "#斜直線_綠色\n",
    "x1 = np.linspace(-3,3,100)\n",
    "y1 = lr.intercept_+(lr.coef_[0]*x1)\n",
    "plt.scatter(x1,y1)\n"
   ]
  },
  {
   "cell_type": "code",
   "execution_count": 31,
   "metadata": {},
   "outputs": [
    {
     "data": {
      "image/png": "[encoded data removed]",
      "text/plain": [
       "<Figure size 432x288 with 1 Axes>"
      ]
     },
     "metadata": {
      "needs_background": "light"
     },
     "output_type": "display_data"
    }
   ],
   "source": [
    "x=np.linspace(-3,3,100)\n",
    "\n",
    "plt.plot(X_std,y,'o')\n",
    "plt.plot(x,lr.intercept_+lr.coef_[0]*x)\n",
    "plt.plot(x,pr.intercept_+pr.coef_[1]*x+pr.coef_[2]*x**2)\n",
    "plt.show()\n",
    "\n"
   ]
  },
  {
   "cell_type": "markdown",
   "metadata": {},
   "source": [
    "### <font color =#000000> PolynomialRegression(degree=3) </font>"
   ]
  },
  {
   "cell_type": "code",
   "execution_count": 32,
   "metadata": {},
   "outputs": [
    {
     "name": "stdout",
     "output_type": "stream",
     "text": [
      "theta1: 0.000\n",
      "theta1: 118.007\n",
      "theta2: 25.074\n",
      "theta3: -9.504\n",
      "Intercept:405.977\n"
     ]
    }
   ],
   "source": [
    "from sklearn.preprocessing import PolynomialFeatures\n",
    "\n",
    "tr = LinearRegression()\n",
    "third = PolynomialFeatures(degree =3)\n",
    "X_third = third.fit_transform(X_std)\n",
    "\n",
    "tr.fit(X_third,y)\n",
    "y_third_pred = tr.predict(X_third)\n",
    "\n",
    "print('theta1: %.3f'%tr.coef_[0])\n",
    "print('theta1: %.3f'%tr.coef_[1])\n",
    "print(\"theta2: %.3f\"%tr.coef_[2])\n",
    "print(\"theta3: %.3f\"%tr.coef_[3])\n",
    "print(\"Intercept:%.3f\"%pr.intercept_)"
   ]
  },
  {
   "cell_type": "code",
   "execution_count": 33,
   "metadata": {},
   "outputs": [
    {
     "data": {
      "image/png": "[encoded data removed]",
      "text/plain": [
       "<Figure size 432x288 with 1 Axes>"
      ]
     },
     "metadata": {
      "needs_background": "light"
     },
     "output_type": "display_data"
    }
   ],
   "source": [
    "x=np.linspace(-3,3,100)\n",
    "\n",
    "plt.plot(X_std,y,'o')\n",
    "plt.plot(x,lr.intercept_+lr.coef_[0]*x)\n",
    "plt.plot(x,pr.intercept_+pr.coef_[1]*x+pr.coef_[2]*x**2)\n",
    "plt.plot(x,tr.intercept_+tr.coef_[1]*x+tr.coef_[2]*x**2+tr.coef_[3]*x**3)\n",
    "plt.show()\n",
    "\n"
   ]
  },
  {
   "cell_type": "code",
   "execution_count": 34,
   "metadata": {},
   "outputs": [
    {
     "name": "stdout",
     "output_type": "stream",
     "text": [
      "[95.56399932]\n",
      "[ 0.         97.13314163 22.62345495]\n",
      "[  0.         118.00650191  25.07383525  -9.50384319]\n"
     ]
    }
   ],
   "source": [
    "print(lr.coef_)   #coef[0]\n",
    "print(pr.coef_)   #corf[1],coef[2]\n",
    "print(tr.coef_)   #coef[1],coef[2],coef[3]"
   ]
  }
 ],
 "metadata": {
  "kernelspec": {
   "display_name": "Python 3",
   "language": "python",
   "name": "python3"
  },
  "language_info": {
   "codemirror_mode": {
    "name": "ipython",
    "version": 3
   },
   "file_extension": ".py",
   "mimetype": "text/x-python",
   "name": "python",
   "nbconvert_exporter": "python",
   "pygments_lexer": "ipython3",
   "version": "3.7.3"
  }
 },
 "nbformat": 4,
 "nbformat_minor": 2
}
